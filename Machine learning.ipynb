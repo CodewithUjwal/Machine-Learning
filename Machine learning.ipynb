{
 "cells": [
  {
   "cell_type": "markdown",
   "id": "0cb2fbfa-9cac-4a16-af74-42965b940e5c",
   "metadata": {},
   "source": [
    "Q1\n",
    "Artificial Intelligence (AI):\n",
    "\n",
    "Definition: Artificial Intelligence involves the simulation of human intelligence processes by machines, especially computer systems. It encompasses learning, reasoning, problem-solving, perception, and language understanding.\n",
    "Example: Developing algorithms that can recognize patterns in data to make predictions, such as predicting customer behavior based on past purchases.\n",
    "Machine Learning (ML):\n",
    "\n",
    "Definition: Machine Learning is a subset of AI that enables systems to automatically learn and improve from experience without being explicitly programmed. It focuses on the development of algorithms that allow computers to learn from and make decisions based on data.\n",
    "Example: Training a model to classify emails as spam or not spam based on the content and characteristics of previously labeled emails.\n",
    "Deep Learning (DL):\n",
    "\n",
    "Definition: Deep Learning is a specialized subset of Machine Learning where artificial neural networks, inspired by the human brain's structure and function, learn from large amounts of data. It enables machines to learn hierarchical representations of data through layers of neural networks.\n",
    "Example: Using deep learning models like convolutional neural networks (CNNs) to classify images based on their content, such as identifying objects or faces in photographs."
   ]
  },
  {
   "cell_type": "markdown",
   "id": "bfb52290-ba64-4406-9c00-e2b3c5c7b8d3",
   "metadata": {},
   "source": [
    "Q2\n",
    "Supervised Learning is a type of machine learning where the model is trained on a labeled dataset, meaning the input data and the desired output are provided. The goal is for the model to learn the mapping from the input to the output, so it can predict the output for new, unseen input data. Here are some examples of supervised learning applications:\n",
    "1 Image Classification\n",
    "2 Sentiment Analysis\n",
    "3 Predictive Analytics\n",
    "4 Speech Recognition"
   ]
  },
  {
   "cell_type": "markdown",
   "id": "1078f05e-044f-41a7-af20-d3603a251aaa",
   "metadata": {},
   "source": [
    "Q3\n",
    "Unsupervised learning is a type of machine learning where the model is trained on unlabeled data without any specific output or target variable to predict. Instead of having predefined labels or outcomes, the algorithm explores the data to find patterns or structures within it. Some examples of unsupervised learning include:\n",
    "Clustering\n",
    "Dimensionality Reduction\n",
    "Anomaly Detection\n",
    "Association Rule Learning"
   ]
  },
  {
   "cell_type": "markdown",
   "id": "87220cca-cab5-4738-8941-6d671f6b121d",
   "metadata": {},
   "source": []
  },
  {
   "cell_type": "code",
   "execution_count": null,
   "id": "47b86012-efd7-465b-910e-a85470098682",
   "metadata": {},
   "outputs": [],
   "source": []
  }
 ],
 "metadata": {
  "kernelspec": {
   "display_name": "Python 3 (ipykernel)",
   "language": "python",
   "name": "python3"
  },
  "language_info": {
   "codemirror_mode": {
    "name": "ipython",
    "version": 3
   },
   "file_extension": ".py",
   "mimetype": "text/x-python",
   "name": "python",
   "nbconvert_exporter": "python",
   "pygments_lexer": "ipython3",
   "version": "3.10.8"
  }
 },
 "nbformat": 4,
 "nbformat_minor": 5
}
